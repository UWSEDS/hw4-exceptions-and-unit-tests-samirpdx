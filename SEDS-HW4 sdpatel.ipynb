{
 "cells": [
  {
   "cell_type": "markdown",
   "metadata": {
    "deletable": true,
    "editable": true
   },
   "source": [
    "# HW4: Exceptions and unit tests\n",
    "In HW1, you downloaded the data from https://data.seattle.gov/resource/4xy5-26gy.csv and put it in a data directory.\n",
    "In general, we don't keep data in github because of limitations on github storage.\n",
    "\n",
    "In this homework, you will develop a function and related tests to manage downloaded data. You will use\n",
    "a technique that is very common in software engineering called *data caching*. You will implement two functions. Both\n",
    "have a single argument, a URL of a data you want to access. The first function, get_data, downloads the data if it\n",
    "is not present locally; if the data are already present, then it takes no action. The second function, delete_data, removes\n",
    "the data if it is present locally.\n",
    "\n",
    "The grading rubric is:\n",
    "\n",
    "- Correctly implement get_data with an exception if the URL does not exist. (Hint: Try downloading the file using urllib3 instead of wget.) (2 pt)\n",
    "- Correctly implement remove_data (1/2 pt)\n",
    "- Implement tests for get_data that consider the following cases: (a) file is present locally; (b) file is not present locally, and the URL points to a file that exists; and (c) URL does not point to a file that exists. (2 pt)\n",
    "- Correctly implement tests for remove_data (1/2 pt)\n",
    "\n",
    "Tests should be in a separate file from the functions get_data and remove_data.\n"
   ]
  },
  {
   "cell_type": "markdown",
   "metadata": {
    "deletable": true,
    "editable": true
   },
   "source": [
    " "
   ]
  },
  {
   "cell_type": "markdown",
   "metadata": {
    "deletable": true,
    "editable": true
   },
   "source": [
    "__Two functions, both with a single argument:  a URL of data we want to access__"
   ]
  },
  {
   "cell_type": "markdown",
   "metadata": {
    "deletable": true,
    "editable": true
   },
   "source": [
    "__Function 1:  get data__\n",
    "\n",
    "Downloads data if it is not present locally;  if the data are already present, then it takes no action.\n",
    "\n",
    "    - Should have exception implemented in the case that the URL does not exist.\n",
    "        - (Hint: Try downloading the file using urllib3 instead of wget.)\n",
    "        - Implement tests for get_data that consider the following cases: \n",
    "            (a) file is present locally; \n",
    "            (b) file is not present locally, and the URL points to a file that exists; \n",
    "            (c) URL does not point to a file that exists. (2 pt)\n",
    "        "
   ]
  },
  {
   "cell_type": "code",
   "execution_count": 8,
   "metadata": {
    "collapsed": true
   },
   "outputs": [],
   "source": [
    "test_url_1 = \"https://data.seattle.gov/resource/4xy5-26gy.csv\"\n",
    "test_url_2 = \"https://data.seattle.gov/resource/4xy5-27gy.csv\"\n"
   ]
  },
  {
   "cell_type": "code",
   "execution_count": 5,
   "metadata": {
    "collapsed": true,
    "deletable": true,
    "editable": true
   },
   "outputs": [],
   "source": [
    "import pandas as pd\n",
    "import os\n",
    "import requests"
   ]
  },
  {
   "cell_type": "code",
   "execution_count": 6,
   "metadata": {
    "collapsed": true,
    "deletable": true,
    "editable": true
   },
   "outputs": [],
   "source": [
    "def get_data(url):\n",
    "    #df = pd.DataFrame()\n",
    "    url = url\n",
    "    csv_name = url[url.rfind(\"/\")+1:]\n",
    "    check = \"\"\n",
    "    if os.path.exists(csv_name):\n",
    "        #print(\"File exists locally, skipping download.\")\n",
    "        check = \"File exists locally, skipping download.\"\n",
    "    else:\n",
    "        try:\n",
    "            req = requests.get(url)\n",
    "            assert req.status_code == 200 # if the download failed, this line will generate an error\n",
    "            with open(csv_name, 'wb') as f:\n",
    "                f.write(req.content)\n",
    "            #df = pd.read_csv(csv_name)\n",
    "            #print(\"Download performed successfully.\")\n",
    "            check = \"Download performed successfully.\" \n",
    "        except AssertionError: \n",
    "            #print(\"URL does not point to a file that exists.\")\n",
    "            check = \"URL does not point to a file that exists.\"\n",
    "    return check"
   ]
  },
  {
   "cell_type": "markdown",
   "metadata": {
    "deletable": true,
    "editable": true
   },
   "source": [
    "__Function 2:  delete_data__\n",
    "\n",
    "Removes the data  if it is present locally.\n",
    "    - Correctly implement tests for remove_data"
   ]
  },
  {
   "cell_type": "code",
   "execution_count": 7,
   "metadata": {
    "collapsed": false,
    "deletable": true,
    "editable": true
   },
   "outputs": [],
   "source": [
    "def delete_data(url):\n",
    "    url = url\n",
    "    csv_name = url[url.rfind(\"/\")+1:]\n",
    "    check = \"\"\n",
    "    try:\n",
    "        os.remove(csv_name)\n",
    "        #print(\"File successfully removed locally.\")\n",
    "        check = \"File successfully removed locally.\"\n",
    "    except FileNotFoundError:\n",
    "        #print(\"File from URL not found locally.\")\n",
    "        check = \"File from URL not found locally.\"\n",
    "    return check"
   ]
  },
  {
   "cell_type": "markdown",
   "metadata": {
    "deletable": true,
    "editable": true
   },
   "source": [
    " "
   ]
  }
 ],
 "metadata": {
  "kernelspec": {
   "display_name": "Python 3",
   "language": "python",
   "name": "python3"
  },
  "language_info": {
   "codemirror_mode": {
    "name": "ipython",
    "version": 3
   },
   "file_extension": ".py",
   "mimetype": "text/x-python",
   "name": "python",
   "nbconvert_exporter": "python",
   "pygments_lexer": "ipython3",
   "version": "3.6.0"
  }
 },
 "nbformat": 4,
 "nbformat_minor": 2
}
